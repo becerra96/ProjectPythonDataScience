{
 "cells": [
  {
   "cell_type": "markdown",
   "metadata": {
    "collapsed": true
   },
   "source": [
    "# Importing and Ingesting Data"
   ]
  },
  {
   "cell_type": "code",
   "execution_count": 1,
   "metadata": {},
   "outputs": [],
   "source": [
    "import pandas as pd\n",
    "import numpy as np\n",
    "import matplotlib.pyplot as plt\n",
    "import ibm_boto3\n",
    "from ibm_botocore.client import Config\n",
    "from scipy import stats\n",
    "import xgboost as xgb"
   ]
  },
  {
   "cell_type": "markdown",
   "metadata": {},
   "source": [
    "We will now download the data from the link given. Then the data will be read into a pandas DataFrame.The cell below is only needed to run if the DataFrame is not in the cloud storage object. We will work with two datasets, the first one contains all the complaints directed to the Department of Housing Preservation and Development of New York, and the second is the Primary Land Use Tax Lot Output (PLUTO) dataset of housing of New York's boroughs."
   ]
  },
  {
   "cell_type": "code",
   "execution_count": 2,
   "metadata": {},
   "outputs": [],
   "source": [
    "# @hidden_cell\n",
    "client = ibm_boto3.client(service_name='s3',\n",
    "ibm_api_key_id=\"F-Fig3aoSsMES7KeqhKs9QVBUtIg8e9QVn2h4acCDgdX\",\n",
    "ibm_auth_endpoint='https://iam.bluemix.net/oidc/token',\n",
    "config=Config(signature_version='oauth'),\n",
    "endpoint_url='https://s3-api.us-geo.objectstorage.softlayer.net')\n",
    "bucket = \"bucket-bucket-bucket\""
   ]
  },
  {
   "cell_type": "code",
   "execution_count": 3,
   "metadata": {
    "scrolled": false
   },
   "outputs": [],
   "source": [
    "#!wget -O hpd.csv https://cf-courses-data.s3.us.cloud-object-storage.appdomain.cloud/IBMDeveloperSkillsNetwork-DS0720EN-SkillsNetwork/labs/Module%201/data/311_Service_Requests_from_2010_to_Present_min.csv\n",
    "#hpd_df = pd.read_csv('hpd.csv')\n",
    "#hpd_df.to_pickle('./hdp_raw_pickle.pkl')\n",
    "#client_cred.upload_file('./hdp_raw_pickle.pkl',bucket,'hdp_pickle.pkl')"
   ]
  },
  {
   "cell_type": "markdown",
   "metadata": {},
   "source": [
    "All the DataFrames will be imported from the storage."
   ]
  },
  {
   "cell_type": "code",
   "execution_count": 4,
   "metadata": {},
   "outputs": [
    {
     "name": "stderr",
     "output_type": "stream",
     "text": [
      "/opt/conda/envs/Python36/lib/python3.6/site-packages/IPython/core/interactiveshell.py:3020: DtypeWarning: Columns (19,20,22,23,24,25,26,64,65,80) have mixed types. Specify dtype option on import or set low_memory=False.\n",
      "  interactivity=interactivity, compiler=compiler, result=result)\n",
      "/opt/conda/envs/Python36/lib/python3.6/site-packages/IPython/core/interactiveshell.py:3020: DtypeWarning: Columns (19,20,22,23,64,65,80) have mixed types. Specify dtype option on import or set low_memory=False.\n",
      "  interactivity=interactivity, compiler=compiler, result=result)\n",
      "/opt/conda/envs/Python36/lib/python3.6/site-packages/IPython/core/interactiveshell.py:3020: DtypeWarning: Columns (20,23,24,26,64) have mixed types. Specify dtype option on import or set low_memory=False.\n",
      "  interactivity=interactivity, compiler=compiler, result=result)\n",
      "/opt/conda/envs/Python36/lib/python3.6/site-packages/IPython/core/interactiveshell.py:3020: DtypeWarning: Columns (19,20,22,23,64,65,77) have mixed types. Specify dtype option on import or set low_memory=False.\n",
      "  interactivity=interactivity, compiler=compiler, result=result)\n",
      "/opt/conda/envs/Python36/lib/python3.6/site-packages/IPython/core/interactiveshell.py:3020: DtypeWarning: Columns (19,20,22,23,24,64,65,80) have mixed types. Specify dtype option on import or set low_memory=False.\n",
      "  interactivity=interactivity, compiler=compiler, result=result)\n"
     ]
    }
   ],
   "source": [
    "client.download_file(Bucket=bucket,Key='hdp_pickle.pkl',Filename='./hpd_raw_pickle.pkl')\n",
    "hpd_df = pd.read_pickle('./hpd_raw_pickle.pkl')\n",
    "\n",
    "client.download_file(Bucket=bucket,Key='BK_18v1.csv',Filename='BK_18v1.csv')\n",
    "client.download_file(Bucket=bucket,Key='BX_18v1.csv',Filename='BX_18v1.csv')\n",
    "client.download_file(Bucket=bucket,Key='MN_18v1.csv',Filename='MN_18v1.csv')\n",
    "client.download_file(Bucket=bucket,Key='QN_18v1.csv',Filename='QN_18v1.csv')\n",
    "client.download_file(Bucket=bucket,Key='SI_18v1.csv',Filename='SI_18v1.csv')\n",
    "BK_df = pd.read_csv('BK_18v1.csv')\n",
    "BX_df = pd.read_csv('BX_18v1.csv')\n",
    "MN_df = pd.read_csv('MN_18v1.csv')\n",
    "QN_df = pd.read_csv('QN_18v1.csv')\n",
    "SI_df = pd.read_csv('SI_18v1.csv')\n"
   ]
  },
  {
   "cell_type": "markdown",
   "metadata": {},
   "source": [
    "This DataFrame will be loaded into our cloud storage as a pickle (.pkl) file."
   ]
  },
  {
   "cell_type": "code",
   "execution_count": 5,
   "metadata": {},
   "outputs": [
    {
     "name": "stdout",
     "output_type": "stream",
     "text": [
      "Valid Zip Codes in Bronx df: 26\n",
      "Valid Zip Codes in Queens df: 65\n"
     ]
    }
   ],
   "source": [
    "valid_ZC_BX = np.sum(np.invert(np.isnan(pd.unique(BX_df['ZipCode']))))\n",
    "valid_ZC_QN = np.sum(np.invert(np.isnan(pd.unique(QN_df['ZipCode']))))\n",
    "print('Valid Zip Codes in Bronx df:',valid_ZC_BX)\n",
    "print('Valid Zip Codes in Queens df:',valid_ZC_QN)"
   ]
  },
  {
   "cell_type": "code",
   "execution_count": 6,
   "metadata": {
    "scrolled": true
   },
   "outputs": [
    {
     "data": {
      "text/html": [
       "<div>\n",
       "<style scoped>\n",
       "    .dataframe tbody tr th:only-of-type {\n",
       "        vertical-align: middle;\n",
       "    }\n",
       "\n",
       "    .dataframe tbody tr th {\n",
       "        vertical-align: top;\n",
       "    }\n",
       "\n",
       "    .dataframe thead th {\n",
       "        text-align: right;\n",
       "    }\n",
       "</style>\n",
       "<table border=\"1\" class=\"dataframe\">\n",
       "  <thead>\n",
       "    <tr style=\"text-align: right;\">\n",
       "      <th></th>\n",
       "      <th>Unique Key</th>\n",
       "      <th>Created Date</th>\n",
       "      <th>Closed Date</th>\n",
       "      <th>Complaint Type</th>\n",
       "      <th>Location Type</th>\n",
       "      <th>Incident Zip</th>\n",
       "      <th>Incident Address</th>\n",
       "      <th>Street Name</th>\n",
       "      <th>Address Type</th>\n",
       "      <th>City</th>\n",
       "      <th>Status</th>\n",
       "      <th>Resolution Description</th>\n",
       "      <th>Borough</th>\n",
       "      <th>Latitude</th>\n",
       "      <th>Longitude</th>\n",
       "    </tr>\n",
       "  </thead>\n",
       "  <tbody>\n",
       "    <tr>\n",
       "      <th>0</th>\n",
       "      <td>45531130</td>\n",
       "      <td>02/02/2020 06:09:17 AM</td>\n",
       "      <td>NaN</td>\n",
       "      <td>HEAT/HOT WATER</td>\n",
       "      <td>RESIDENTIAL BUILDING</td>\n",
       "      <td>10019.0</td>\n",
       "      <td>426 WEST   52 STREET</td>\n",
       "      <td>WEST   52 STREET</td>\n",
       "      <td>ADDRESS</td>\n",
       "      <td>NEW YORK</td>\n",
       "      <td>Open</td>\n",
       "      <td>The following complaint conditions are still o...</td>\n",
       "      <td>MANHATTAN</td>\n",
       "      <td>40.765132</td>\n",
       "      <td>-73.988993</td>\n",
       "    </tr>\n",
       "    <tr>\n",
       "      <th>1</th>\n",
       "      <td>45529784</td>\n",
       "      <td>02/02/2020 02:15:24 PM</td>\n",
       "      <td>NaN</td>\n",
       "      <td>UNSANITARY CONDITION</td>\n",
       "      <td>RESIDENTIAL BUILDING</td>\n",
       "      <td>11204.0</td>\n",
       "      <td>1751 67 STREET</td>\n",
       "      <td>67 STREET</td>\n",
       "      <td>ADDRESS</td>\n",
       "      <td>BROOKLYN</td>\n",
       "      <td>Open</td>\n",
       "      <td>The following complaint conditions are still o...</td>\n",
       "      <td>BROOKLYN</td>\n",
       "      <td>40.618484</td>\n",
       "      <td>-73.992673</td>\n",
       "    </tr>\n",
       "    <tr>\n",
       "      <th>2</th>\n",
       "      <td>45527528</td>\n",
       "      <td>02/02/2020 02:27:41 AM</td>\n",
       "      <td>NaN</td>\n",
       "      <td>HEAT/HOT WATER</td>\n",
       "      <td>RESIDENTIAL BUILDING</td>\n",
       "      <td>11372.0</td>\n",
       "      <td>87-15 37 AVENUE</td>\n",
       "      <td>37 AVENUE</td>\n",
       "      <td>ADDRESS</td>\n",
       "      <td>Jackson Heights</td>\n",
       "      <td>Open</td>\n",
       "      <td>The following complaint conditions are still o...</td>\n",
       "      <td>QUEENS</td>\n",
       "      <td>40.750269</td>\n",
       "      <td>-73.879432</td>\n",
       "    </tr>\n",
       "    <tr>\n",
       "      <th>3</th>\n",
       "      <td>45530329</td>\n",
       "      <td>02/02/2020 12:13:18 PM</td>\n",
       "      <td>NaN</td>\n",
       "      <td>HEAT/HOT WATER</td>\n",
       "      <td>RESIDENTIAL BUILDING</td>\n",
       "      <td>10458.0</td>\n",
       "      <td>2405 SOUTHERN BOULEVARD</td>\n",
       "      <td>SOUTHERN BOULEVARD</td>\n",
       "      <td>ADDRESS</td>\n",
       "      <td>BRONX</td>\n",
       "      <td>Open</td>\n",
       "      <td>The following complaint conditions are still o...</td>\n",
       "      <td>BRONX</td>\n",
       "      <td>40.853773</td>\n",
       "      <td>-73.881558</td>\n",
       "    </tr>\n",
       "    <tr>\n",
       "      <th>4</th>\n",
       "      <td>45528814</td>\n",
       "      <td>02/02/2020 01:59:44 PM</td>\n",
       "      <td>NaN</td>\n",
       "      <td>APPLIANCE</td>\n",
       "      <td>RESIDENTIAL BUILDING</td>\n",
       "      <td>11209.0</td>\n",
       "      <td>223 78 STREET</td>\n",
       "      <td>78 STREET</td>\n",
       "      <td>ADDRESS</td>\n",
       "      <td>BROOKLYN</td>\n",
       "      <td>Open</td>\n",
       "      <td>The following complaint conditions are still o...</td>\n",
       "      <td>BROOKLYN</td>\n",
       "      <td>40.629745</td>\n",
       "      <td>-74.030533</td>\n",
       "    </tr>\n",
       "  </tbody>\n",
       "</table>\n",
       "</div>"
      ],
      "text/plain": [
       "   Unique Key            Created Date Closed Date        Complaint Type  \\\n",
       "0    45531130  02/02/2020 06:09:17 AM         NaN        HEAT/HOT WATER   \n",
       "1    45529784  02/02/2020 02:15:24 PM         NaN  UNSANITARY CONDITION   \n",
       "2    45527528  02/02/2020 02:27:41 AM         NaN        HEAT/HOT WATER   \n",
       "3    45530329  02/02/2020 12:13:18 PM         NaN        HEAT/HOT WATER   \n",
       "4    45528814  02/02/2020 01:59:44 PM         NaN             APPLIANCE   \n",
       "\n",
       "          Location Type  Incident Zip         Incident Address  \\\n",
       "0  RESIDENTIAL BUILDING       10019.0     426 WEST   52 STREET   \n",
       "1  RESIDENTIAL BUILDING       11204.0           1751 67 STREET   \n",
       "2  RESIDENTIAL BUILDING       11372.0          87-15 37 AVENUE   \n",
       "3  RESIDENTIAL BUILDING       10458.0  2405 SOUTHERN BOULEVARD   \n",
       "4  RESIDENTIAL BUILDING       11209.0            223 78 STREET   \n",
       "\n",
       "          Street Name Address Type             City Status  \\\n",
       "0    WEST   52 STREET      ADDRESS         NEW YORK   Open   \n",
       "1           67 STREET      ADDRESS         BROOKLYN   Open   \n",
       "2           37 AVENUE      ADDRESS  Jackson Heights   Open   \n",
       "3  SOUTHERN BOULEVARD      ADDRESS            BRONX   Open   \n",
       "4           78 STREET      ADDRESS         BROOKLYN   Open   \n",
       "\n",
       "                              Resolution Description    Borough   Latitude  \\\n",
       "0  The following complaint conditions are still o...  MANHATTAN  40.765132   \n",
       "1  The following complaint conditions are still o...   BROOKLYN  40.618484   \n",
       "2  The following complaint conditions are still o...     QUEENS  40.750269   \n",
       "3  The following complaint conditions are still o...      BRONX  40.853773   \n",
       "4  The following complaint conditions are still o...   BROOKLYN  40.629745   \n",
       "\n",
       "   Longitude  \n",
       "0 -73.988993  \n",
       "1 -73.992673  \n",
       "2 -73.879432  \n",
       "3 -73.881558  \n",
       "4 -74.030533  "
      ]
     },
     "execution_count": 6,
     "metadata": {},
     "output_type": "execute_result"
    }
   ],
   "source": [
    "hpd_df.head()"
   ]
  },
  {
   "cell_type": "markdown",
   "metadata": {},
   "source": [
    "# Data Wrangling"
   ]
  },
  {
   "cell_type": "markdown",
   "metadata": {},
   "source": [
    "We will estimate how many reports have a missing incident address. Then we will find the most common complaint type so we can focus on those, because the idea is to help the Department of Housing Preservation and Develpment to tackle where there are the most amount of complaints. We will also drop all of the complaints that do not contain an address, because the idea is to use the address to link the properties of the housing to the number of complaints. To do this we will group the complaints dataset by it's address and then add a row of complaints to the PLUTO data set. Afterwards we will grab only the features we will look at from the PLUTO data set. Then add the a column with the number of complaints per address."
   ]
  },
  {
   "cell_type": "code",
   "execution_count": 7,
   "metadata": {},
   "outputs": [
    {
     "data": {
      "text/plain": [
       "52825"
      ]
     },
     "execution_count": 7,
     "metadata": {},
     "output_type": "execute_result"
    }
   ],
   "source": [
    "hpd_df['Incident Address'].isnull().sum()"
   ]
  },
  {
   "cell_type": "code",
   "execution_count": 8,
   "metadata": {},
   "outputs": [
    {
     "data": {
      "text/plain": [
       "30"
      ]
     },
     "execution_count": 8,
     "metadata": {},
     "output_type": "execute_result"
    }
   ],
   "source": [
    "len(hpd_df['Complaint Type'].unique())"
   ]
  },
  {
   "cell_type": "code",
   "execution_count": 74,
   "metadata": {},
   "outputs": [
    {
     "name": "stdout",
     "output_type": "stream",
     "text": [
      "The top complaint type: HEAT/HOT WATER\n"
     ]
    }
   ],
   "source": [
    "complaintsCounts = hpd_df['Complaint Type'].value_counts()\n",
    "topComplaintsCounts = complaintsCounts[complaintsCounts > 900000]\n",
    "print('The top complaint type:',complaintsCounts.index[0])"
   ]
  },
  {
   "cell_type": "code",
   "execution_count": 76,
   "metadata": {},
   "outputs": [
    {
     "name": "stdout",
     "output_type": "stream",
     "text": [
      "Number of Complaints including NaN's 1261574\n",
      "Number of Complaints after dropping NaN's 1261574\n"
     ]
    }
   ],
   "source": [
    "topComplaints = hpd_df[hpd_df['Complaint Type'] == complaintsCounts.index[0]]\n",
    "print('Number of Complaints including NaN\\'s', topComplaints.shape[0])\n",
    "topComplaints  = topComplaints.dropna(subset= ['Incident Address'])\n",
    "print('Number of Complaints after dropping NaN\\'s', topComplaints.shape[0])"
   ]
  },
  {
   "cell_type": "code",
   "execution_count": 53,
   "metadata": {},
   "outputs": [
    {
     "name": "stdout",
     "output_type": "stream",
     "text": [
      "The borough with most complaints BRONX\n",
      "The borough with least complaints Unspecified\n",
      "The Zip Code with most complaints 11226.0\n",
      "The Adress with most complaints 89-21 ELMHURST AVENUE\n",
      "The ammouns of closed complaints 1256876\n"
     ]
    }
   ],
   "source": [
    "print('The borough with most complaints',topComplaints['Borough'].value_counts().index[0])\n",
    "print('The borough with least complaints',topComplaints['Borough'].value_counts().index[-1])\n",
    "print('The Zip Code with most complaints', topComplaints['Incident Zip'].value_counts().index[0])\n",
    "print('The Adress with most complaints', topComplaints['Incident Address'].value_counts().index[0])\n",
    "print('The ammouns of closed complaints',topComplaints['Closed Date'].notnull().sum())"
   ]
  },
  {
   "cell_type": "code",
   "execution_count": 54,
   "metadata": {},
   "outputs": [],
   "source": [
    "BK_df = BK_df[['Address', 'BldgArea', 'BldgDepth', 'BuiltFAR', 'CommFAR', 'FacilFAR', 'Lot', 'LotArea', 'LotDepth', 'NumBldgs', 'NumFloors', 'OfficeArea', 'ResArea', 'ResidFAR', 'RetailArea', 'YearBuilt', 'YearAlter1', 'ZipCode', 'YCoord','XCoord']]\n",
    "BX_df = BX_df[['Address', 'BldgArea', 'BldgDepth', 'BuiltFAR', 'CommFAR', 'FacilFAR', 'Lot', 'LotArea', 'LotDepth', 'NumBldgs', 'NumFloors', 'OfficeArea', 'ResArea', 'ResidFAR', 'RetailArea', 'YearBuilt', 'YearAlter1', 'ZipCode', 'YCoord','XCoord']]\n",
    "MN_df = MN_df[['Address', 'BldgArea', 'BldgDepth', 'BuiltFAR', 'CommFAR', 'FacilFAR', 'Lot', 'LotArea', 'LotDepth', 'NumBldgs', 'NumFloors', 'OfficeArea', 'ResArea', 'ResidFAR', 'RetailArea', 'YearBuilt', 'YearAlter1', 'ZipCode', 'YCoord','XCoord']]\n",
    "QN_df = QN_df[['Address', 'BldgArea', 'BldgDepth', 'BuiltFAR', 'CommFAR', 'FacilFAR', 'Lot', 'LotArea', 'LotDepth', 'NumBldgs', 'NumFloors', 'OfficeArea', 'ResArea', 'ResidFAR', 'RetailArea', 'YearBuilt', 'YearAlter1', 'ZipCode', 'YCoord','XCoord']]\n",
    "SI_df = SI_df[['Address', 'BldgArea', 'BldgDepth', 'BuiltFAR', 'CommFAR', 'FacilFAR', 'Lot', 'LotArea', 'LotDepth', 'NumBldgs', 'NumFloors', 'OfficeArea', 'ResArea', 'ResidFAR', 'RetailArea', 'YearBuilt', 'YearAlter1', 'ZipCode', 'YCoord','XCoord']]"
   ]
  },
  {
   "cell_type": "code",
   "execution_count": 66,
   "metadata": {},
   "outputs": [
    {
     "data": {
      "text/plain": [
       "(18993, 2)"
      ]
     },
     "execution_count": 66,
     "metadata": {},
     "output_type": "execute_result"
    }
   ],
   "source": [
    "topComplaintsBX = topComplaints[topComplaints['Borough'] == 'BRONX']\n",
    "addressComplaintsBX = pd.DataFrame(topComplaintsBX['Incident Address'].value_counts())\n",
    "addressComplaintsBX.rename({'Incident Address':'NumComplaints'},axis=1,inplace=True)\n",
    "addressComplaintsBX[['Address']] = pd.DataFrame(addressComplaintsBX.index.to_series())\n",
    "addressComplaintsBX.head()\n",
    "X = pd.merge(left = BX_df, right = addressComplaintsBX, on = 'Address')\n",
    "addressComplaintsBX.shape"
   ]
  },
  {
   "cell_type": "markdown",
   "metadata": {},
   "source": [
    "# Exploratory Data Analysis"
   ]
  },
  {
   "cell_type": "markdown",
   "metadata": {},
   "source": [
    "Now, we will look at the correlation between the features and the number of complaints (NumComplaints). Then we will choose the top correlations and plot them in a scatter plot against the number of complaints to see what typo of correlation they have. "
   ]
  },
  {
   "cell_type": "code",
   "execution_count": 56,
   "metadata": {
    "scrolled": true
   },
   "outputs": [
    {
     "data": {
      "image/png": "[encoded data removed]",
      "text/plain": [
       "<Figure size 1080x720 with 4 Axes>"
      ]
     },
     "metadata": {
      "needs_background": "light"
     },
     "output_type": "display_data"
    },
    {
     "data": {
      "text/html": [
       "<div>\n",
       "<style scoped>\n",
       "    .dataframe tbody tr th:only-of-type {\n",
       "        vertical-align: middle;\n",
       "    }\n",
       "\n",
       "    .dataframe tbody tr th {\n",
       "        vertical-align: top;\n",
       "    }\n",
       "\n",
       "    .dataframe thead th {\n",
       "        text-align: right;\n",
       "    }\n",
       "</style>\n",
       "<table border=\"1\" class=\"dataframe\">\n",
       "  <thead>\n",
       "    <tr style=\"text-align: right;\">\n",
       "      <th></th>\n",
       "      <th>NumComplaints</th>\n",
       "    </tr>\n",
       "  </thead>\n",
       "  <tbody>\n",
       "    <tr>\n",
       "      <th>NumFloors</th>\n",
       "      <td>0.217522</td>\n",
       "    </tr>\n",
       "    <tr>\n",
       "      <th>BldgDepth</th>\n",
       "      <td>0.176494</td>\n",
       "    </tr>\n",
       "    <tr>\n",
       "      <th>BuiltFAR</th>\n",
       "      <td>0.136604</td>\n",
       "    </tr>\n",
       "    <tr>\n",
       "      <th>ResidFAR</th>\n",
       "      <td>0.136189</td>\n",
       "    </tr>\n",
       "  </tbody>\n",
       "</table>\n",
       "</div>"
      ],
      "text/plain": [
       "           NumComplaints\n",
       "NumFloors       0.217522\n",
       "BldgDepth       0.176494\n",
       "BuiltFAR        0.136604\n",
       "ResidFAR        0.136189"
      ]
     },
     "execution_count": 56,
     "metadata": {},
     "output_type": "execute_result"
    }
   ],
   "source": [
    "featuresCorr = X.corr()[['NumComplaints']].sort_values('NumComplaints', ascending = False).drop('NumComplaints')\n",
    "\n",
    "features = featuresCorr.head(4).index.to_list()\n",
    "\n",
    "%matplotlib inline\n",
    "fig = plt.figure()\n",
    "axList = []\n",
    "for i, feat in enumerate(features):\n",
    "    axList.append(fig.add_subplot(2,2,i+1))\n",
    "    X.plot(kind='scatter', x = feat, y = 'NumComplaints', ax = axList[i], figsize = (15,10))\n",
    "\n",
    "plt.show()\n",
    "featuresCorr.head(4)    \n",
    "    "
   ]
  },
  {
   "cell_type": "markdown",
   "metadata": {},
   "source": [
    "# Model Development and Evaluation"
   ]
  },
  {
   "cell_type": "markdown",
   "metadata": {},
   "source": [
    "It is clear from the scatter plots that there is no clear correlation between the features and the number of complaints. But for the sake of developing a model to predict the number of complaints, then a model will be trained to demonstrate how a linear model will be built and tested. On the other hand, a more realistic model will be built to predict the probability whether or not a house will generate a complaint."
   ]
  },
  {
   "cell_type": "code",
   "execution_count": 57,
   "metadata": {},
   "outputs": [
    {
     "name": "stdout",
     "output_type": "stream",
     "text": [
      "The score for the Linear Model is : 0.025652797079369606\n"
     ]
    }
   ],
   "source": [
    "from sklearn.linear_model import LinearRegression\n",
    "from sklearn.model_selection import cross_val_score\n",
    "\n",
    "lm = LinearRegression()\n",
    "scoresLm = cross_val_score(lm, X[['NumFloors']],X[['NumComplaints']], cv=5)\n",
    "print('The score for the Linear Model is :', scoresLm.mean())"
   ]
  },
  {
   "cell_type": "markdown",
   "metadata": {},
   "source": [
    "The model suggested by the course was one that predicts the number of complaints regarding the top complaint type in the Bronx. But, it is clear that it is not precise in any way. So the idea is to make a model that can predict the probability of a house in the bronx to generate a complaint of the top complaint type. As you will see this model can help predict which buildings will have a problem with their hot water."
   ]
  },
  {
   "cell_type": "code",
   "execution_count": 58,
   "metadata": {},
   "outputs": [
    {
     "data": {
      "text/html": [
       "<div>\n",
       "<style scoped>\n",
       "    .dataframe tbody tr th:only-of-type {\n",
       "        vertical-align: middle;\n",
       "    }\n",
       "\n",
       "    .dataframe tbody tr th {\n",
       "        vertical-align: top;\n",
       "    }\n",
       "\n",
       "    .dataframe thead th {\n",
       "        text-align: right;\n",
       "    }\n",
       "</style>\n",
       "<table border=\"1\" class=\"dataframe\">\n",
       "  <thead>\n",
       "    <tr style=\"text-align: right;\">\n",
       "      <th></th>\n",
       "      <th>Address</th>\n",
       "      <th>BldgArea</th>\n",
       "      <th>BldgDepth</th>\n",
       "      <th>BuiltFAR</th>\n",
       "      <th>CommFAR</th>\n",
       "      <th>FacilFAR</th>\n",
       "      <th>Lot</th>\n",
       "      <th>LotArea</th>\n",
       "      <th>LotDepth</th>\n",
       "      <th>NumBldgs</th>\n",
       "      <th>...</th>\n",
       "      <th>OfficeArea</th>\n",
       "      <th>ResArea</th>\n",
       "      <th>ResidFAR</th>\n",
       "      <th>RetailArea</th>\n",
       "      <th>YearBuilt</th>\n",
       "      <th>YearAlter1</th>\n",
       "      <th>ZipCode</th>\n",
       "      <th>YCoord</th>\n",
       "      <th>XCoord</th>\n",
       "      <th>Complaint</th>\n",
       "    </tr>\n",
       "  </thead>\n",
       "  <tbody>\n",
       "    <tr>\n",
       "      <th>0</th>\n",
       "      <td>122 BRUCKNER BOULEVARD</td>\n",
       "      <td>0</td>\n",
       "      <td>0.0</td>\n",
       "      <td>0.00</td>\n",
       "      <td>5.0</td>\n",
       "      <td>6.5</td>\n",
       "      <td>1</td>\n",
       "      <td>15000</td>\n",
       "      <td>200.0</td>\n",
       "      <td>1</td>\n",
       "      <td>...</td>\n",
       "      <td>0</td>\n",
       "      <td>0</td>\n",
       "      <td>6.02</td>\n",
       "      <td>0</td>\n",
       "      <td>0</td>\n",
       "      <td>0</td>\n",
       "      <td>10454.0</td>\n",
       "      <td>232162.0</td>\n",
       "      <td>1005957.0</td>\n",
       "      <td>0</td>\n",
       "    </tr>\n",
       "    <tr>\n",
       "      <th>1</th>\n",
       "      <td>126 BRUCKNER BOULEVARD</td>\n",
       "      <td>752</td>\n",
       "      <td>16.0</td>\n",
       "      <td>0.05</td>\n",
       "      <td>5.0</td>\n",
       "      <td>6.5</td>\n",
       "      <td>4</td>\n",
       "      <td>13770</td>\n",
       "      <td>100.0</td>\n",
       "      <td>2</td>\n",
       "      <td>...</td>\n",
       "      <td>272</td>\n",
       "      <td>0</td>\n",
       "      <td>6.02</td>\n",
       "      <td>0</td>\n",
       "      <td>1931</td>\n",
       "      <td>1994</td>\n",
       "      <td>10454.0</td>\n",
       "      <td>232156.0</td>\n",
       "      <td>1006076.0</td>\n",
       "      <td>0</td>\n",
       "    </tr>\n",
       "    <tr>\n",
       "      <th>2</th>\n",
       "      <td>138 BRUCKNER BOULEVARD</td>\n",
       "      <td>39375</td>\n",
       "      <td>200.0</td>\n",
       "      <td>1.13</td>\n",
       "      <td>5.0</td>\n",
       "      <td>6.5</td>\n",
       "      <td>10</td>\n",
       "      <td>35000</td>\n",
       "      <td>200.0</td>\n",
       "      <td>1</td>\n",
       "      <td>...</td>\n",
       "      <td>0</td>\n",
       "      <td>0</td>\n",
       "      <td>6.02</td>\n",
       "      <td>0</td>\n",
       "      <td>1931</td>\n",
       "      <td>0</td>\n",
       "      <td>10454.0</td>\n",
       "      <td>232036.0</td>\n",
       "      <td>1006187.0</td>\n",
       "      <td>0</td>\n",
       "    </tr>\n",
       "    <tr>\n",
       "      <th>3</th>\n",
       "      <td>144 BRUCKNER BOULEVARD</td>\n",
       "      <td>12500</td>\n",
       "      <td>85.0</td>\n",
       "      <td>5.00</td>\n",
       "      <td>5.0</td>\n",
       "      <td>6.5</td>\n",
       "      <td>17</td>\n",
       "      <td>2500</td>\n",
       "      <td>100.0</td>\n",
       "      <td>1</td>\n",
       "      <td>...</td>\n",
       "      <td>0</td>\n",
       "      <td>12500</td>\n",
       "      <td>6.02</td>\n",
       "      <td>0</td>\n",
       "      <td>1931</td>\n",
       "      <td>2001</td>\n",
       "      <td>10454.0</td>\n",
       "      <td>232033.0</td>\n",
       "      <td>1006299.0</td>\n",
       "      <td>1</td>\n",
       "    </tr>\n",
       "    <tr>\n",
       "      <th>4</th>\n",
       "      <td>148 BRUCKNER BOULEVARD</td>\n",
       "      <td>8595</td>\n",
       "      <td>70.0</td>\n",
       "      <td>4.58</td>\n",
       "      <td>5.0</td>\n",
       "      <td>6.5</td>\n",
       "      <td>18</td>\n",
       "      <td>1875</td>\n",
       "      <td>75.0</td>\n",
       "      <td>1</td>\n",
       "      <td>...</td>\n",
       "      <td>0</td>\n",
       "      <td>6876</td>\n",
       "      <td>6.02</td>\n",
       "      <td>1719</td>\n",
       "      <td>1920</td>\n",
       "      <td>2009</td>\n",
       "      <td>10454.0</td>\n",
       "      <td>232040.0</td>\n",
       "      <td>1006363.0</td>\n",
       "      <td>1</td>\n",
       "    </tr>\n",
       "  </tbody>\n",
       "</table>\n",
       "<p>5 rows × 21 columns</p>\n",
       "</div>"
      ],
      "text/plain": [
       "                  Address  BldgArea  BldgDepth  BuiltFAR  CommFAR  FacilFAR  \\\n",
       "0  122 BRUCKNER BOULEVARD         0        0.0      0.00      5.0       6.5   \n",
       "1  126 BRUCKNER BOULEVARD       752       16.0      0.05      5.0       6.5   \n",
       "2  138 BRUCKNER BOULEVARD     39375      200.0      1.13      5.0       6.5   \n",
       "3  144 BRUCKNER BOULEVARD     12500       85.0      5.00      5.0       6.5   \n",
       "4  148 BRUCKNER BOULEVARD      8595       70.0      4.58      5.0       6.5   \n",
       "\n",
       "   Lot  LotArea  LotDepth  NumBldgs  ...  OfficeArea  ResArea  ResidFAR  \\\n",
       "0    1    15000     200.0         1  ...           0        0      6.02   \n",
       "1    4    13770     100.0         2  ...         272        0      6.02   \n",
       "2   10    35000     200.0         1  ...           0        0      6.02   \n",
       "3   17     2500     100.0         1  ...           0    12500      6.02   \n",
       "4   18     1875      75.0         1  ...           0     6876      6.02   \n",
       "\n",
       "   RetailArea  YearBuilt  YearAlter1  ZipCode    YCoord     XCoord  Complaint  \n",
       "0           0          0           0  10454.0  232162.0  1005957.0          0  \n",
       "1           0       1931        1994  10454.0  232156.0  1006076.0          0  \n",
       "2           0       1931           0  10454.0  232036.0  1006187.0          0  \n",
       "3           0       1931        2001  10454.0  232033.0  1006299.0          1  \n",
       "4        1719       1920        2009  10454.0  232040.0  1006363.0          1  \n",
       "\n",
       "[5 rows x 21 columns]"
      ]
     },
     "execution_count": 58,
     "metadata": {},
     "output_type": "execute_result"
    }
   ],
   "source": [
    "def classify(x):\n",
    "    if np.isnan(x):\n",
    "        return 0\n",
    "    else:\n",
    "        return 1\n",
    "\n",
    "Xlog = pd.merge(left = BX_df, right = addressComplaintsBX, how= 'left', on = 'Address')\n",
    "Xlog['Complaint'] = Xlog.NumComplaints.apply(classify)\n",
    "Xlog.drop(columns = 'NumComplaints', inplace = True)\n",
    "Xlog.head()\n"
   ]
  },
  {
   "cell_type": "code",
   "execution_count": 59,
   "metadata": {},
   "outputs": [
    {
     "name": "stdout",
     "output_type": "stream",
     "text": [
      "[18:47:12] src/tree/updater_prune.cc:74: tree pruning end, 1 roots, 30 extra nodes, 0 pruned nodes, max_depth=4\n",
      "[0]\tTrain-logloss:0.336153\tTest-logloss:0.343509\n",
      "[18:47:22] src/tree/updater_prune.cc:74: tree pruning end, 1 roots, 30 extra nodes, 0 pruned nodes, max_depth=4\n",
      "[1]\tTrain-logloss:0.302156\tTest-logloss:0.311042\n",
      "[18:47:31] src/tree/updater_prune.cc:74: tree pruning end, 1 roots, 28 extra nodes, 0 pruned nodes, max_depth=4\n",
      "[2]\tTrain-logloss:0.294558\tTest-logloss:0.305067\n",
      "[18:47:41] src/tree/updater_prune.cc:74: tree pruning end, 1 roots, 30 extra nodes, 0 pruned nodes, max_depth=4\n",
      "[3]\tTrain-logloss:0.291796\tTest-logloss:0.303347\n",
      "[18:47:50] src/tree/updater_prune.cc:74: tree pruning end, 1 roots, 30 extra nodes, 0 pruned nodes, max_depth=4\n",
      "[4]\tTrain-logloss:0.289048\tTest-logloss:0.301977\n",
      "[18:48:00] src/tree/updater_prune.cc:74: tree pruning end, 1 roots, 30 extra nodes, 0 pruned nodes, max_depth=4\n",
      "[5]\tTrain-logloss:0.28743\tTest-logloss:0.301765\n",
      "[18:48:10] src/tree/updater_prune.cc:74: tree pruning end, 1 roots, 30 extra nodes, 0 pruned nodes, max_depth=4\n",
      "[6]\tTrain-logloss:0.285899\tTest-logloss:0.300377\n",
      "[18:48:19] src/tree/updater_prune.cc:74: tree pruning end, 1 roots, 30 extra nodes, 0 pruned nodes, max_depth=4\n",
      "[7]\tTrain-logloss:0.284574\tTest-logloss:0.298906\n",
      "[18:48:29] src/tree/updater_prune.cc:74: tree pruning end, 1 roots, 28 extra nodes, 0 pruned nodes, max_depth=4\n",
      "[8]\tTrain-logloss:0.283836\tTest-logloss:0.298639\n",
      "[18:48:38] src/tree/updater_prune.cc:74: tree pruning end, 1 roots, 30 extra nodes, 0 pruned nodes, max_depth=4\n",
      "[9]\tTrain-logloss:0.282822\tTest-logloss:0.299077\n"
     ]
    },
    {
     "data": {
      "text/plain": [
       "<matplotlib.axes._subplots.AxesSubplot at 0x7f6fa2f99ba8>"
      ]
     },
     "execution_count": 59,
     "metadata": {},
     "output_type": "execute_result"
    },
    {
     "data": {
      "image/png": "[encoded data removed]",
      "text/plain": [
       "<Figure size 432x288 with 1 Axes>"
      ]
     },
     "metadata": {
      "needs_background": "light"
     },
     "output_type": "display_data"
    }
   ],
   "source": [
    "from sklearn.model_selection import train_test_split\n",
    "\n",
    "x_train, x_test, y_train, y_test = train_test_split(Xlog.drop(columns = ['Complaint','Address']),\n",
    "                                                    Xlog[['Complaint']], test_size = 0.2, random_state=0)\n",
    "\n",
    "dmTrain = xgb.DMatrix(x_train,label = y_train)\n",
    "dmTest = xgb.DMatrix(x_test,label = y_test)\n",
    "\n",
    "param = {'max_depth': 4, 'eta': 1, 'objective': 'binary:logistic', 'eval_metric':'logloss'}\n",
    "num_round = 10\n",
    "xgbModel = xgb.train(param, dmTrain, num_round, evals=[(dmTrain, 'Train'),(dmTest, 'Test')])\n",
    "xgb.plot_importance(xgbModel)"
   ]
  },
  {
   "cell_type": "code",
   "execution_count": 61,
   "metadata": {},
   "outputs": [
    {
     "name": "stdout",
     "output_type": "stream",
     "text": [
      "[19:27:43] src/tree/updater_prune.cc:74: tree pruning end, 1 roots, 62 extra nodes, 0 pruned nodes, max_depth=5\n",
      "[0]\tTrain-logloss:0.333112\tTest-logloss:0.341017\n",
      "[19:27:55] src/tree/updater_prune.cc:74: tree pruning end, 1 roots, 62 extra nodes, 0 pruned nodes, max_depth=5\n",
      "[1]\tTrain-logloss:0.298957\tTest-logloss:0.30988\n",
      "[19:28:07] src/tree/updater_prune.cc:74: tree pruning end, 1 roots, 58 extra nodes, 0 pruned nodes, max_depth=5\n",
      "[2]\tTrain-logloss:0.290504\tTest-logloss:0.305262\n",
      "[19:28:20] src/tree/updater_prune.cc:74: tree pruning end, 1 roots, 56 extra nodes, 0 pruned nodes, max_depth=5\n",
      "[3]\tTrain-logloss:0.287816\tTest-logloss:0.304285\n",
      "[19:28:31] src/tree/updater_prune.cc:74: tree pruning end, 1 roots, 50 extra nodes, 0 pruned nodes, max_depth=5\n",
      "[4]\tTrain-logloss:0.285601\tTest-logloss:0.303189\n",
      "[19:28:42] src/tree/updater_prune.cc:74: tree pruning end, 1 roots, 60 extra nodes, 0 pruned nodes, max_depth=5\n",
      "[5]\tTrain-logloss:0.282961\tTest-logloss:0.302997\n",
      "[19:28:54] src/tree/updater_prune.cc:74: tree pruning end, 1 roots, 58 extra nodes, 0 pruned nodes, max_depth=5\n",
      "[6]\tTrain-logloss:0.281112\tTest-logloss:0.303457\n",
      "[19:29:04] src/tree/updater_prune.cc:74: tree pruning end, 1 roots, 24 extra nodes, 0 pruned nodes, max_depth=5\n",
      "[7]\tTrain-logloss:0.280417\tTest-logloss:0.302963\n",
      "[19:29:16] src/tree/updater_prune.cc:74: tree pruning end, 1 roots, 50 extra nodes, 0 pruned nodes, max_depth=5\n",
      "[8]\tTrain-logloss:0.2791\tTest-logloss:0.302971\n",
      "[19:29:28] src/tree/updater_prune.cc:74: tree pruning end, 1 roots, 62 extra nodes, 0 pruned nodes, max_depth=5\n",
      "[9]\tTrain-logloss:0.277662\tTest-logloss:0.303806\n"
     ]
    },
    {
     "data": {
      "image/png": "[encoded data removed]",
      "text/plain": [
       "<Figure size 432x288 with 1 Axes>"
      ]
     },
     "metadata": {
      "needs_background": "light"
     },
     "output_type": "display_data"
    }
   ],
   "source": [
    "x_train, x_test, y_train, y_test = train_test_split(Xlog.drop(columns = ['Complaint','Address','ZipCode','Lot','YearAlter1','RetailArea',\n",
    "                                                                         'LotDepth','NumBldgs','FacilFAR','CommFAR','OfficeArea']),\n",
    "                                                    Xlog[['Complaint']], test_size = 0.2, random_state=0)\n",
    "\n",
    "dmTrain = xgb.DMatrix(x_train,label = y_train)\n",
    "dmTest = xgb.DMatrix(x_test,label = y_test)\n",
    "\n",
    "param = {'max_depth': 5, 'eta': 1, 'objective': 'binary:logistic', 'eval_metric':'logloss'}\n",
    "num_round = 10\n",
    "xgbModel = xgb.train(param, dmTrain, num_round, evals=[(dmTrain, 'Train'),(dmTest, 'Test')])\n",
    "xgb.plot_importance(xgbModel)\n",
    "plt.show()"
   ]
  },
  {
   "cell_type": "code",
   "execution_count": null,
   "metadata": {},
   "outputs": [],
   "source": []
  }
 ],
 "metadata": {
  "kernelspec": {
   "display_name": "Python 3.6",
   "language": "python",
   "name": "python3"
  },
  "language_info": {
   "codemirror_mode": {
    "name": "ipython",
    "version": 3
   },
   "file_extension": ".py",
   "mimetype": "text/x-python",
   "name": "python",
   "nbconvert_exporter": "python",
   "pygments_lexer": "ipython3",
   "version": "3.6.9"
  }
 },
 "nbformat": 4,
 "nbformat_minor": 1
}
