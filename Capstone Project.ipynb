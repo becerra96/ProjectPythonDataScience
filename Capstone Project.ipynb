{
 "cells": [
  {
   "cell_type": "markdown",
   "metadata": {},
   "source": [
    "# Importing and Ingesting Data"
   ]
  },
  {
   "cell_type": "code",
   "execution_count": 2,
   "metadata": {},
   "outputs": [],
   "source": [
    "import pandas as pd\n",
    "import numpy as np\n",
    "import matplotlib.pyplot as plt\n",
    "from scipy import stats\n",
    "import xgboost as xgb"
   ]
  },
  {
   "cell_type": "markdown",
   "metadata": {},
   "source": [
    " The Primary Land Use Tax Lot Output (PLUTO) dataset of housing of New York's boroughs cointains characteristics of the buildings in each borough of New York. This dataset will be used in our model. We will just import the borough with the most complaints, to reduce the size of the data set being handled. PLUTO database for the borough we will select later is going to be imported. To avoid having large datasets, as this is just a demo, we will not use all of the PLUTO data bases and we will only use the first 10,000 rows. This PLUTO database was processed before hand so loading it already conains only the fist 10,000 entries."
   ]
  },
  {
   "cell_type": "code",
   "execution_count": 3,
   "metadata": {},
   "outputs": [
    {
     "name": "stderr",
     "output_type": "stream",
     "text": [
      "C:\\Users\\Santiago\\anaconda3\\envs\\Pandas\\lib\\site-packages\\IPython\\core\\interactiveshell.py:3146: DtypeWarning: Columns (20) have mixed types.Specify dtype option on import or set low_memory=False.\n",
      "  interactivity=interactivity, compiler=compiler, result=result)\n"
     ]
    }
   ],
   "source": [
    "BX_df = pd.read_csv('BX_df.csv')"
   ]
  },
  {
   "cell_type": "markdown",
   "metadata": {},
   "source": [
    "We will now download the data from the link given. Then the data will be read into a pandas DataFrame.The cell below is only needed to run if the DataFrame is not in the cloud storage object. We will work with two datasets, the first one contains all the complaints directed to the Department of Housing Preservation and Development of New York. To avoid running through the big dataset of the HPD you can jump to the cell before exploratory analysis."
   ]
  },
  {
   "cell_type": "code",
   "execution_count": null,
   "metadata": {},
   "outputs": [],
   "source": [
    "!wget -O hpd_df.csv https://cf-courses-data.s3.us.cloud-object-storage.appdomain.cloud/IBMDeveloperSkillsNetwork-DS0720EN-SkillsNetwork/labs/Module%201/data/311_Service_Requests_from_2010_to_Present_min.csv\n",
    "hpd_df = pd.read_csv('hpd_df.csv')"
   ]
  },
  {
   "cell_type": "markdown",
   "metadata": {},
   "source": [
    "This DataFrame will be loaded into our cloud storage as a pickle (.pkl) file."
   ]
  },
  {
   "cell_type": "code",
   "execution_count": 13,
   "metadata": {},
   "outputs": [
    {
     "name": "stdout",
     "output_type": "stream",
     "text": [
      "Valid Zip Codes in Bronx df: 11\n"
     ]
    }
   ],
   "source": [
    "valid_ZC_BX = np.sum(np.invert(np.isnan(pd.unique(BX_df['ZipCode']))))\n",
    "print('Valid Zip Codes in Bronx df:',valid_ZC_BX)"
   ]
  },
  {
   "cell_type": "markdown",
   "metadata": {},
   "source": [
    "# Data Wrangling"
   ]
  },
  {
   "cell_type": "markdown",
   "metadata": {},
   "source": [
    "We will estimate how many reports have a missing incident address. Then we will find the most common complaint type so we can focus on those, because the idea is to help the Department of Housing Preservation and Develpment to tackle where there are the most amount of complaints. We will also drop all of the complaints that do not contain an address, because the idea is to use the address to link the properties of the housing to the number of complaints. To do this we will group the complaints dataset by it's address and then add a row of complaints to the PLUTO data set. Afterwards we will grab only the features we will look at from the PLUTO data set. Then add the a column with the number of complaints per address."
   ]
  },
  {
   "cell_type": "code",
   "execution_count": 6,
   "metadata": {},
   "outputs": [
    {
     "data": {
      "text/plain": [
       "52825"
      ]
     },
     "execution_count": 6,
     "metadata": {},
     "output_type": "execute_result"
    }
   ],
   "source": [
    "hpd_df['Incident Address'].isnull().sum()"
   ]
  },
  {
   "cell_type": "code",
   "execution_count": 7,
   "metadata": {},
   "outputs": [
    {
     "data": {
      "text/plain": [
       "30"
      ]
     },
     "execution_count": 7,
     "metadata": {},
     "output_type": "execute_result"
    }
   ],
   "source": [
    "len(hpd_df['Complaint Type'].unique())"
   ]
  },
  {
   "cell_type": "code",
   "execution_count": 8,
   "metadata": {},
   "outputs": [
    {
     "name": "stdout",
     "output_type": "stream",
     "text": [
      "The top complaint type: HEAT/HOT WATER\n"
     ]
    }
   ],
   "source": [
    "complaintsCounts = hpd_df['Complaint Type'].value_counts()\n",
    "topComplaintsCounts = complaintsCounts[complaintsCounts > 900000]\n",
    "print('The top complaint type:',complaintsCounts.index[0])"
   ]
  },
  {
   "cell_type": "code",
   "execution_count": 9,
   "metadata": {},
   "outputs": [
    {
     "name": "stdout",
     "output_type": "stream",
     "text": [
      "Number of Complaints including NaN's 1261574\n",
      "Number of Complaints after dropping NaN's 1261574\n"
     ]
    }
   ],
   "source": [
    "topComplaints = hpd_df[hpd_df['Complaint Type'] == complaintsCounts.index[0]]\n",
    "print('Number of Complaints including NaN\\'s', topComplaints.shape[0])\n",
    "topComplaints  = topComplaints.dropna(subset= ['Incident Address'])\n",
    "print('Number of Complaints after dropping NaN\\'s', topComplaints.shape[0])"
   ]
  },
  {
   "cell_type": "code",
   "execution_count": 10,
   "metadata": {},
   "outputs": [
    {
     "name": "stdout",
     "output_type": "stream",
     "text": [
      "The borough with most complaints BRONX\n",
      "The borough with least complaints Unspecified\n",
      "The Zip Code with most complaints 11226.0\n",
      "The Adress with most complaints 89-21 ELMHURST AVENUE\n",
      "The ammouns of closed complaints 1256876\n"
     ]
    }
   ],
   "source": [
    "print('The borough with most complaints',topComplaints['Borough'].value_counts().index[0])\n",
    "print('The borough with least complaints',topComplaints['Borough'].value_counts().index[-1])\n",
    "print('The Zip Code with most complaints', topComplaints['Incident Zip'].value_counts().index[0])\n",
    "print('The Adress with most complaints', topComplaints['Incident Address'].value_counts().index[0])\n",
    "print('The ammouns of closed complaints',topComplaints['Closed Date'].notnull().sum())"
   ]
  },
  {
   "cell_type": "code",
   "execution_count": 29,
   "metadata": {},
   "outputs": [],
   "source": [
    "topComplaintsBX = topComplaints[topComplaints['Borough'] == 'BRONX']\n",
    "addressComplaintsBX = pd.DataFrame(topComplaintsBX['Incident Address'].value_counts())\n",
    "addressComplaintsBX.rename({'Incident Address':'NumComplaints'},axis=1,inplace=True)\n",
    "addressComplaintsBX[['Address']] = pd.DataFrame(addressComplaintsBX.index.to_series())\n",
    "addressComplaintsBX.to_csv('addressComplaintsBX.csv',index = False)\n"
   ]
  },
  {
   "cell_type": "markdown",
   "metadata": {},
   "source": [
    "Continue from here!!!"
   ]
  },
  {
   "cell_type": "code",
   "execution_count": 30,
   "metadata": {},
   "outputs": [],
   "source": [
    "addressComplaintsBX = pd.read_csv('addressComplaintsBX.csv')\n",
    "BX_df = BX_df[['Address', 'BldgArea', 'BldgDepth', 'BuiltFAR', 'CommFAR', 'FacilFAR', 'Lot', 'LotArea', 'LotDepth', 'NumBldgs', 'NumFloors', 'OfficeArea', 'ResArea', 'ResidFAR', 'RetailArea', 'YearBuilt', 'YearAlter1', 'ZipCode', 'YCoord','XCoord']]\n",
    "X = pd.merge(left = BX_df, right = addressComplaintsBX, on = 'Address')"
   ]
  },
  {
   "cell_type": "markdown",
   "metadata": {},
   "source": [
    "# Exploratory Data Analysis"
   ]
  },
  {
   "cell_type": "markdown",
   "metadata": {},
   "source": [
    "Now, we will look at the correlation between the features and the number of complaints (NumComplaints). Then we will choose the top correlations and plot them in a scatter plot against the number of complaints to see what typo of correlation they have. "
   ]
  },
  {
   "cell_type": "code",
   "execution_count": 14,
   "metadata": {
    "scrolled": true
   },
   "outputs": [
    {
     "data": {
      "image/png": "[encoded data removed]",
      "text/plain": [
       "<Figure size 1080x720 with 4 Axes>"
      ]
     },
     "metadata": {
      "needs_background": "light"
     },
     "output_type": "display_data"
    },
    {
     "data": {
      "text/html": [
       "<div>\n",
       "<style scoped>\n",
       "    .dataframe tbody tr th:only-of-type {\n",
       "        vertical-align: middle;\n",
       "    }\n",
       "\n",
       "    .dataframe tbody tr th {\n",
       "        vertical-align: top;\n",
       "    }\n",
       "\n",
       "    .dataframe thead th {\n",
       "        text-align: right;\n",
       "    }\n",
       "</style>\n",
       "<table border=\"1\" class=\"dataframe\">\n",
       "  <thead>\n",
       "    <tr style=\"text-align: right;\">\n",
       "      <th></th>\n",
       "      <th>NumComplaints</th>\n",
       "    </tr>\n",
       "  </thead>\n",
       "  <tbody>\n",
       "    <tr>\n",
       "      <th>ResArea</th>\n",
       "      <td>0.214518</td>\n",
       "    </tr>\n",
       "    <tr>\n",
       "      <th>BuiltFAR</th>\n",
       "      <td>0.205106</td>\n",
       "    </tr>\n",
       "    <tr>\n",
       "      <th>ResidFAR</th>\n",
       "      <td>0.195383</td>\n",
       "    </tr>\n",
       "    <tr>\n",
       "      <th>NumFloors</th>\n",
       "      <td>0.192087</td>\n",
       "    </tr>\n",
       "  </tbody>\n",
       "</table>\n",
       "</div>"
      ],
      "text/plain": [
       "           NumComplaints\n",
       "ResArea         0.214518\n",
       "BuiltFAR        0.205106\n",
       "ResidFAR        0.195383\n",
       "NumFloors       0.192087"
      ]
     },
     "execution_count": 14,
     "metadata": {},
     "output_type": "execute_result"
    }
   ],
   "source": [
    "featuresCorr = X.corr()[['NumComplaints']].sort_values('NumComplaints', ascending = False).drop('NumComplaints')\n",
    "\n",
    "features = featuresCorr.head(4).index.to_list()\n",
    "\n",
    "%matplotlib inline\n",
    "fig = plt.figure()\n",
    "axList = []\n",
    "for i, feat in enumerate(features):\n",
    "    axList.append(fig.add_subplot(2,2,i+1))\n",
    "    X.plot(kind='scatter', x = feat, y = 'NumComplaints', ax = axList[i], figsize = (15,10))\n",
    "\n",
    "plt.show()\n",
    "featuresCorr.head(4)    \n",
    "    "
   ]
  },
  {
   "cell_type": "markdown",
   "metadata": {},
   "source": [
    "# Model Development and Evaluation"
   ]
  },
  {
   "cell_type": "markdown",
   "metadata": {},
   "source": [
    "It is clear from the scatter plots that there is no clear correlation between the features and the number of complaints. But for the sake of developing a model to predict the number of complaints, then a model will be trained to demonstrate how a linear model will be built and tested. On the other hand, a more realistic model will be built to predict the probability whether or not a house will generate a complaint."
   ]
  },
  {
   "cell_type": "code",
   "execution_count": 15,
   "metadata": {},
   "outputs": [
    {
     "name": "stdout",
     "output_type": "stream",
     "text": [
      "The score for the Linear Model is : -0.0705830861687767\n"
     ]
    }
   ],
   "source": [
    "from sklearn.linear_model import LinearRegression\n",
    "from sklearn.model_selection import cross_val_score\n",
    "\n",
    "lm = LinearRegression()\n",
    "scoresLm = cross_val_score(lm, X[['NumFloors']],X[['NumComplaints']], cv=5)\n",
    "print('The score for the Linear Model is :', scoresLm.mean())"
   ]
  },
  {
   "cell_type": "markdown",
   "metadata": {},
   "source": [
    "The model suggested by the course was one that predicts the number of complaints regarding the top complaint type in the Bronx. But, it is clear that it is not precise in any way. So the idea is to make a model that can predict the probability of a house in the bronx to generate a complaint of the top complaint type. As you will see this model can help predict which buildings will have a problem with their hot water."
   ]
  },
  {
   "cell_type": "code",
   "execution_count": 32,
   "metadata": {},
   "outputs": [
    {
     "data": {
      "text/html": [
       "<div>\n",
       "<style scoped>\n",
       "    .dataframe tbody tr th:only-of-type {\n",
       "        vertical-align: middle;\n",
       "    }\n",
       "\n",
       "    .dataframe tbody tr th {\n",
       "        vertical-align: top;\n",
       "    }\n",
       "\n",
       "    .dataframe thead th {\n",
       "        text-align: right;\n",
       "    }\n",
       "</style>\n",
       "<table border=\"1\" class=\"dataframe\">\n",
       "  <thead>\n",
       "    <tr style=\"text-align: right;\">\n",
       "      <th></th>\n",
       "      <th>NumComplaints</th>\n",
       "      <th>Address</th>\n",
       "    </tr>\n",
       "  </thead>\n",
       "  <tbody>\n",
       "    <tr>\n",
       "      <th>0</th>\n",
       "      <td>5220</td>\n",
       "      <td>1025 BOYNTON AVENUE</td>\n",
       "    </tr>\n",
       "    <tr>\n",
       "      <th>1</th>\n",
       "      <td>3615</td>\n",
       "      <td>2090 EAST TREMONT AVENUE</td>\n",
       "    </tr>\n",
       "    <tr>\n",
       "      <th>2</th>\n",
       "      <td>2462</td>\n",
       "      <td>2968 PERRY AVENUE</td>\n",
       "    </tr>\n",
       "    <tr>\n",
       "      <th>3</th>\n",
       "      <td>2277</td>\n",
       "      <td>2040 BRONXDALE AVENUE</td>\n",
       "    </tr>\n",
       "    <tr>\n",
       "      <th>4</th>\n",
       "      <td>2264</td>\n",
       "      <td>888 GRAND CONCOURSE</td>\n",
       "    </tr>\n",
       "  </tbody>\n",
       "</table>\n",
       "</div>"
      ],
      "text/plain": [
       "   NumComplaints                   Address\n",
       "0           5220       1025 BOYNTON AVENUE\n",
       "1           3615  2090 EAST TREMONT AVENUE\n",
       "2           2462         2968 PERRY AVENUE\n",
       "3           2277     2040 BRONXDALE AVENUE\n",
       "4           2264       888 GRAND CONCOURSE"
      ]
     },
     "execution_count": 32,
     "metadata": {},
     "output_type": "execute_result"
    }
   ],
   "source": [
    "def classify(x):\n",
    "    if np.isnan(x):\n",
    "        return 0\n",
    "    else:\n",
    "        return 1\n",
    "\n",
    "Xlog = pd.merge(left = BX_df, right = addressComplaintsBX, how= 'left', on = 'Address', right_index = False)\n",
    "Xlog['Complaint'] = Xlog.NumComplaints.apply(classify)\n",
    "Xlog.drop(columns = 'NumComplaints', inplace = True)\n",
    "Xlog.head()"
   ]
  },
  {
   "cell_type": "code",
   "execution_count": 33,
   "metadata": {},
   "outputs": [
    {
     "name": "stdout",
     "output_type": "stream",
     "text": [
      "[0]\tTrain-logloss:0.385152\tTest-logloss:0.385564\n",
      "[1]\tTrain-logloss:0.351778\tTest-logloss:0.361182\n",
      "[2]\tTrain-logloss:0.339994\tTest-logloss:0.359886\n",
      "[3]\tTrain-logloss:0.334649\tTest-logloss:0.361085\n",
      "[4]\tTrain-logloss:0.326676\tTest-logloss:0.363579\n",
      "[5]\tTrain-logloss:0.318875\tTest-logloss:0.365796\n",
      "[6]\tTrain-logloss:0.314405\tTest-logloss:0.363292\n",
      "[7]\tTrain-logloss:0.308786\tTest-logloss:0.367546\n",
      "[8]\tTrain-logloss:0.305651\tTest-logloss:0.365313\n",
      "[9]\tTrain-logloss:0.301604\tTest-logloss:0.366062\n"
     ]
    },
    {
     "data": {
      "text/plain": [
       "<AxesSubplot:title={'center':'Feature importance'}, xlabel='F score', ylabel='Features'>"
      ]
     },
     "execution_count": 33,
     "metadata": {},
     "output_type": "execute_result"
    },
    {
     "data": {
      "image/png": "[encoded data removed]",
      "text/plain": [
       "<Figure size 432x288 with 1 Axes>"
      ]
     },
     "metadata": {
      "needs_background": "light"
     },
     "output_type": "display_data"
    }
   ],
   "source": [
    "from sklearn.model_selection import train_test_split\n",
    "\n",
    "x_train, x_test, y_train, y_test = train_test_split(Xlog.drop(columns = ['Complaint','Address']),\n",
    "                                                    Xlog[['Complaint']], test_size = 0.2, random_state=0)\n",
    "\n",
    "dmTrain = xgb.DMatrix(x_train,label = y_train)\n",
    "dmTest = xgb.DMatrix(x_test,label = y_test)\n",
    "\n",
    "param = {'max_depth': 4, 'eta': 1, 'objective': 'binary:logistic', 'eval_metric':'logloss'}\n",
    "num_round = 10\n",
    "xgbModel = xgb.train(param, dmTrain, num_round, evals=[(dmTrain, 'Train'),(dmTest, 'Test')])\n",
    "xgb.plot_importance(xgbModel)"
   ]
  },
  {
   "cell_type": "code",
   "execution_count": 34,
   "metadata": {},
   "outputs": [
    {
     "name": "stdout",
     "output_type": "stream",
     "text": [
      "[0]\tTrain-logloss:0.375714\tTest-logloss:0.386278\n",
      "[1]\tTrain-logloss:0.339038\tTest-logloss:0.362218\n",
      "[2]\tTrain-logloss:0.324988\tTest-logloss:0.359479\n",
      "[3]\tTrain-logloss:0.318676\tTest-logloss:0.361796\n",
      "[4]\tTrain-logloss:0.31084\tTest-logloss:0.364305\n",
      "[5]\tTrain-logloss:0.305004\tTest-logloss:0.367067\n",
      "[6]\tTrain-logloss:0.294423\tTest-logloss:0.368942\n",
      "[7]\tTrain-logloss:0.290598\tTest-logloss:0.369854\n",
      "[8]\tTrain-logloss:0.286429\tTest-logloss:0.368024\n",
      "[9]\tTrain-logloss:0.281477\tTest-logloss:0.371273\n"
     ]
    },
    {
     "data": {
      "image/png": "[encoded data removed]",
      "text/plain": [
       "<Figure size 432x288 with 1 Axes>"
      ]
     },
     "metadata": {
      "needs_background": "light"
     },
     "output_type": "display_data"
    }
   ],
   "source": [
    "x_train, x_test, y_train, y_test = train_test_split(Xlog.drop(columns = ['Complaint','Address','ZipCode','Lot','YearAlter1','RetailArea',\n",
    "                                                                         'LotDepth','NumBldgs','FacilFAR','CommFAR','OfficeArea']),\n",
    "                                                    Xlog[['Complaint']], test_size = 0.2, random_state=0)\n",
    "\n",
    "dmTrain = xgb.DMatrix(x_train,label = y_train)\n",
    "dmTest = xgb.DMatrix(x_test,label = y_test)\n",
    "\n",
    "param = {'max_depth': 5, 'eta': 1, 'objective': 'binary:logistic', 'eval_metric':'logloss'}\n",
    "num_round = 10\n",
    "xgbModel = xgb.train(param, dmTrain, num_round, evals=[(dmTrain, 'Train'),(dmTest, 'Test')])\n",
    "xgb.plot_importance(xgbModel)\n",
    "plt.show()"
   ]
  },
  {
   "cell_type": "code",
   "execution_count": null,
   "metadata": {},
   "outputs": [],
   "source": []
  }
 ],
 "metadata": {
  "kernelspec": {
   "display_name": "Python 3",
   "language": "python",
   "name": "python3"
  },
  "language_info": {
   "codemirror_mode": {
    "name": "ipython",
    "version": 3
   },
   "file_extension": ".py",
   "mimetype": "text/x-python",
   "name": "python",
   "nbconvert_exporter": "python",
   "pygments_lexer": "ipython3",
   "version": "3.7.9"
  }
 },
 "nbformat": 4,
 "nbformat_minor": 4
}
